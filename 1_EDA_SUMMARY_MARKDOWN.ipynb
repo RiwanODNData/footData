{
 "cells": [
  {
   "cell_type": "markdown",
   "id": "17ab4675-e9e4-4efe-9397-93919d97213f",
   "metadata": {},
   "source": [
    "# Summary of Our Observations (Match 1)\n",
    "\n",
    "## Action Duration:\n",
    "- Median duration is 0.92 seconds.\n",
    "- 1st quartile: 0.68 seconds; 3rd quartile: 1.16 seconds.\n",
    "- Presence of outliers, with the longest duration being 4.54 seconds.\n",
    "\n",
    "## Action Frequency:\n",
    "- 'Walk' is the most frequent (245 occurrences); followed by 'run' (209 occurrences).\n",
    "- Rare actions: 'shot' (6 occurrences) and 'cross' (3 occurrences).\n",
    "- Predominant play style: without ball.\n",
    "\n",
    "## Norms of Actions:\n",
    "- 'Shot' has the highest mean norm.\n",
    "- Wide norm range for 'shot' and 'dribble'.\n",
    "- 'Walk' and 'rest' showcase lower median norms.\n",
    "- High norm variability in 'shot'.\n",
    "- Several actions exhibit outliers.\n",
    "\n",
    "## Action Duration by sec_time Column:\n",
    "- 'Rest' lasts the longest on average (mean = 1.790).\n",
    "- 'Shot' is the quickest (mean = 0.557).\n",
    "- High variability in 'rest' durations (std = 1.180).\n",
    "- Longest duration: 'rest' (4.54 seconds); shortest burst of action: 'run' (0.02 seconds).\n",
    "- Most frequent action: 'walk' (245 occurrences).\n",
    "\n",
    "## Action Intensity:\n",
    "- High-intensity actions: shots, passes, crosses, tackles.\n",
    "- Low-intensity actions: walk, rest, run.\n",
    "- Differentiating factor: norm sequence length.\n",
    "\n",
    "## Sequence Lengths:\n",
    "- Normal distribution pattern.\n",
    "- Majority range: 50 to 100, peaking slightly below 100.\n",
    "\n",
    "## Transition Matrix Insights:\n",
    "- Several actions with high self-transition likelihood.\n",
    "- Diverse transitions observed for 'dribble'.\n",
    "- Zero transition probability between some actions, e.g., 'cross' to 'tackle'.\n",
    "- Post 'shot', equal chances to 'walk', 'shot', or 'run'.\n"
   ]
  },
  {
   "cell_type": "markdown",
   "id": "cf288e00-b209-4597-8de1-865e2d35cdfb",
   "metadata": {},
   "source": [
    "# Summary of Matches 1 & 2\n",
    "\n",
    "### Data Overview\n",
    "Both matches present similar data structure with 'label' and 'norm' columns.\n",
    "\n",
    "### Action Duration\n",
    "The median action duration is slightly lower in match 2 (0.8s) compared to match 1 (0.92s). Outliers are present in both matches, with match 2 displaying a significantly longer max duration (14.46s vs. 4.54s in match 1).\n",
    "\n",
    "### Action Distribution\n",
    "Both matches predominantly feature 'walk' and 'run' actions. Match 2 shows an increase in 'shot' actions (12) compared to match 1 (6), yet actions like 'shot' and 'cross' remain rare. Overall, players mostly play without the ball.\n",
    "\n",
    "### Intensity Metrics\n",
    "'Shot' action consistently displays the highest intensity across both matches. The mean and max values for actions like 'run' and 'shot' are closely aligned between the two matches. A consistent person wearing the sensor could be the reason for the similarities.\n",
    "\n",
    "### Action Durations\n",
    "The 'rest' action's average duration is notably longer in match 2 (3.628s) than in match 1 (1.79s), indicating increased fatigue in the second match.\n",
    "\n",
    "### Transition Patterns\n",
    "Both matches show high self-transition probabilities, especially for 'walk' and 'run'. Diverse transitions post 'dribble' and consistent post 'shot' transitions are observed in both matches.\n",
    "\n",
    "### Decision\n",
    "Given the similarities in intensity, action distribution, and transition patterns, it's deemed beneficial to merge the data from both matches for richer insights and analyses.\n"
   ]
  },
  {
   "cell_type": "markdown",
   "id": "13a382eb-db27-4820-ab7f-0ee843fbe84f",
   "metadata": {},
   "source": [
    "# Merged Data Summary:\n",
    "\n",
    "Upon analyzing the merged dataset, we observed that its structure and characteristics closely resemble those of match 1 and match 2. This is expected since the merged dataset combines the data from both matches and should inherently share the same properties.\n"
   ]
  }
 ],
 "metadata": {
  "kernelspec": {
   "display_name": "Python 3 (ipykernel)",
   "language": "python",
   "name": "python3"
  },
  "language_info": {
   "codemirror_mode": {
    "name": "ipython",
    "version": 3
   },
   "file_extension": ".py",
   "mimetype": "text/x-python",
   "name": "python",
   "nbconvert_exporter": "python",
   "pygments_lexer": "ipython3",
   "version": "3.11.5"
  }
 },
 "nbformat": 4,
 "nbformat_minor": 5
}
